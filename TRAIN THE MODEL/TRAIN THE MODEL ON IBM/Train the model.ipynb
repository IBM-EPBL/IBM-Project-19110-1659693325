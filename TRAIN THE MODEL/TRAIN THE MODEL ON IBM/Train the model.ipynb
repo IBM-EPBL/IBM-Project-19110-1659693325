{
 "cells": [
  {
   "cell_type": "markdown",
   "id": "5e6909df",
   "metadata": {},
   "source": [
    "#IBM DEPLOYMENT"
   ]
  },
  {
   "cell_type": "code",
   "execution_count": 2,
   "id": "beec9b09",
   "metadata": {},
   "outputs": [
    {
     "name": "stdout",
     "output_type": "stream",
     "text": [
      "Defaulting to user installation because normal site-packages is not writeable\n",
      "Requirement already satisfied: watson-machine-learning-client in c:\\users\\dell\\appdata\\roaming\\python\\python39\\site-packages (1.0.391)\n",
      "Requirement already satisfied: lomond in c:\\users\\dell\\appdata\\roaming\\python\\python39\\site-packages (from watson-machine-learning-client) (0.3.3)\n",
      "Requirement already satisfied: urllib3 in c:\\programdata\\anaconda3\\lib\\site-packages (from watson-machine-learning-client) (1.26.11)\n",
      "Requirement already satisfied: ibm-cos-sdk in c:\\users\\dell\\appdata\\roaming\\python\\python39\\site-packages (from watson-machine-learning-client) (2.12.0)\n",
      "Requirement already satisfied: requests in c:\\programdata\\anaconda3\\lib\\site-packages (from watson-machine-learning-client) (2.28.1)\n",
      "Requirement already satisfied: certifi in c:\\programdata\\anaconda3\\lib\\site-packages (from watson-machine-learning-client) (2022.9.14)\n",
      "Requirement already satisfied: pandas in c:\\programdata\\anaconda3\\lib\\site-packages (from watson-machine-learning-client) (1.4.4)\n",
      "Requirement already satisfied: boto3 in c:\\programdata\\anaconda3\\lib\\site-packages (from watson-machine-learning-client) (1.24.28)\n",
      "Requirement already satisfied: tabulate in c:\\programdata\\anaconda3\\lib\\site-packages (from watson-machine-learning-client) (0.8.10)\n",
      "Requirement already satisfied: tqdm in c:\\programdata\\anaconda3\\lib\\site-packages (from watson-machine-learning-client) (4.64.1)\n",
      "Requirement already satisfied: jmespath<2.0.0,>=0.7.1 in c:\\programdata\\anaconda3\\lib\\site-packages (from boto3->watson-machine-learning-client) (0.10.0)\n",
      "Requirement already satisfied: botocore<1.28.0,>=1.27.28 in c:\\programdata\\anaconda3\\lib\\site-packages (from boto3->watson-machine-learning-client) (1.27.28)\n",
      "Requirement already satisfied: s3transfer<0.7.0,>=0.6.0 in c:\\programdata\\anaconda3\\lib\\site-packages (from boto3->watson-machine-learning-client) (0.6.0)\n",
      "Requirement already satisfied: ibm-cos-sdk-s3transfer==2.12.0 in c:\\users\\dell\\appdata\\roaming\\python\\python39\\site-packages (from ibm-cos-sdk->watson-machine-learning-client) (2.12.0)\n",
      "Requirement already satisfied: ibm-cos-sdk-core==2.12.0 in c:\\users\\dell\\appdata\\roaming\\python\\python39\\site-packages (from ibm-cos-sdk->watson-machine-learning-client) (2.12.0)\n",
      "Requirement already satisfied: python-dateutil<3.0.0,>=2.8.2 in c:\\programdata\\anaconda3\\lib\\site-packages (from ibm-cos-sdk-core==2.12.0->ibm-cos-sdk->watson-machine-learning-client) (2.8.2)\n",
      "Requirement already satisfied: idna<4,>=2.5 in c:\\programdata\\anaconda3\\lib\\site-packages (from requests->watson-machine-learning-client) (3.3)\n",
      "Requirement already satisfied: charset-normalizer<3,>=2 in c:\\programdata\\anaconda3\\lib\\site-packages (from requests->watson-machine-learning-client) (2.0.4)\n",
      "Requirement already satisfied: six>=1.10.0 in c:\\programdata\\anaconda3\\lib\\site-packages (from lomond->watson-machine-learning-client) (1.16.0)\n",
      "Requirement already satisfied: pytz>=2020.1 in c:\\programdata\\anaconda3\\lib\\site-packages (from pandas->watson-machine-learning-client) (2022.1)\n",
      "Requirement already satisfied: numpy>=1.18.5 in c:\\programdata\\anaconda3\\lib\\site-packages (from pandas->watson-machine-learning-client) (1.21.5)\n",
      "Requirement already satisfied: colorama in c:\\programdata\\anaconda3\\lib\\site-packages (from tqdm->watson-machine-learning-client) (0.4.5)\n",
      "Note: you may need to restart the kernel to use updated packages.\n"
     ]
    }
   ],
   "source": [
    "pip install watson-machine-learning-client\n"
   ]
  },
  {
   "cell_type": "code",
   "execution_count": 4,
   "id": "15ee4d3c",
   "metadata": {},
   "outputs": [
    {
     "name": "stdout",
     "output_type": "stream",
     "text": [
      "Defaulting to user installation because normal site-packages is not writeable\n",
      "Collecting ibm_watson_machine_learning\n",
      "  Downloading ibm_watson_machine_learning-1.0.257-py3-none-any.whl (1.8 MB)\n",
      "     ---------------------------------------- 1.8/1.8 MB 1.1 MB/s eta 0:00:00\n",
      "Requirement already satisfied: tabulate in c:\\programdata\\anaconda3\\lib\\site-packages (from ibm_watson_machine_learning) (0.8.10)\n",
      "Collecting ibm-cos-sdk==2.11.*\n",
      "  Downloading ibm-cos-sdk-2.11.0.tar.gz (53 kB)\n",
      "     ---------------------------------------- 53.3/53.3 kB 2.7 MB/s eta 0:00:00\n",
      "  Preparing metadata (setup.py): started\n",
      "  Preparing metadata (setup.py): finished with status 'done'\n",
      "Requirement already satisfied: certifi in c:\\programdata\\anaconda3\\lib\\site-packages (from ibm_watson_machine_learning) (2022.9.14)\n",
      "Requirement already satisfied: pandas<1.5.0,>=0.24.2 in c:\\programdata\\anaconda3\\lib\\site-packages (from ibm_watson_machine_learning) (1.4.4)\n",
      "Requirement already satisfied: packaging in c:\\programdata\\anaconda3\\lib\\site-packages (from ibm_watson_machine_learning) (21.3)\n",
      "Requirement already satisfied: lomond in c:\\users\\dell\\appdata\\roaming\\python\\python39\\site-packages (from ibm_watson_machine_learning) (0.3.3)\n",
      "Requirement already satisfied: urllib3 in c:\\programdata\\anaconda3\\lib\\site-packages (from ibm_watson_machine_learning) (1.26.11)\n",
      "Requirement already satisfied: importlib-metadata in c:\\programdata\\anaconda3\\lib\\site-packages (from ibm_watson_machine_learning) (4.11.3)\n",
      "Requirement already satisfied: requests in c:\\programdata\\anaconda3\\lib\\site-packages (from ibm_watson_machine_learning) (2.28.1)\n",
      "Collecting ibm-cos-sdk-core==2.11.0\n",
      "  Downloading ibm-cos-sdk-core-2.11.0.tar.gz (913 kB)\n",
      "     -------------------------------------- 913.9/913.9 kB 1.7 MB/s eta 0:00:00\n",
      "  Preparing metadata (setup.py): started\n",
      "  Preparing metadata (setup.py): finished with status 'done'\n",
      "Collecting ibm-cos-sdk-s3transfer==2.11.0\n",
      "  Downloading ibm-cos-sdk-s3transfer-2.11.0.tar.gz (135 kB)\n",
      "     -------------------------------------- 135.6/135.6 kB 2.0 MB/s eta 0:00:00\n",
      "  Preparing metadata (setup.py): started\n",
      "  Preparing metadata (setup.py): finished with status 'done'\n",
      "Requirement already satisfied: jmespath<1.0.0,>=0.7.1 in c:\\programdata\\anaconda3\\lib\\site-packages (from ibm-cos-sdk==2.11.*->ibm_watson_machine_learning) (0.10.0)\n",
      "Requirement already satisfied: python-dateutil<3.0.0,>=2.1 in c:\\programdata\\anaconda3\\lib\\site-packages (from ibm-cos-sdk-core==2.11.0->ibm-cos-sdk==2.11.*->ibm_watson_machine_learning) (2.8.2)\n",
      "Requirement already satisfied: numpy>=1.18.5 in c:\\programdata\\anaconda3\\lib\\site-packages (from pandas<1.5.0,>=0.24.2->ibm_watson_machine_learning) (1.21.5)\n",
      "Requirement already satisfied: pytz>=2020.1 in c:\\programdata\\anaconda3\\lib\\site-packages (from pandas<1.5.0,>=0.24.2->ibm_watson_machine_learning) (2022.1)\n",
      "Requirement already satisfied: charset-normalizer<3,>=2 in c:\\programdata\\anaconda3\\lib\\site-packages (from requests->ibm_watson_machine_learning) (2.0.4)\n",
      "Requirement already satisfied: idna<4,>=2.5 in c:\\programdata\\anaconda3\\lib\\site-packages (from requests->ibm_watson_machine_learning) (3.3)\n",
      "Requirement already satisfied: zipp>=0.5 in c:\\programdata\\anaconda3\\lib\\site-packages (from importlib-metadata->ibm_watson_machine_learning) (3.8.0)\n",
      "Requirement already satisfied: six>=1.10.0 in c:\\programdata\\anaconda3\\lib\\site-packages (from lomond->ibm_watson_machine_learning) (1.16.0)\n",
      "Requirement already satisfied: pyparsing!=3.0.5,>=2.0.2 in c:\\programdata\\anaconda3\\lib\\site-packages (from packaging->ibm_watson_machine_learning) (3.0.9)\n",
      "Building wheels for collected packages: ibm-cos-sdk, ibm-cos-sdk-core, ibm-cos-sdk-s3transfer\n",
      "  Building wheel for ibm-cos-sdk (setup.py): started\n",
      "  Building wheel for ibm-cos-sdk (setup.py): finished with status 'done'\n",
      "  Created wheel for ibm-cos-sdk: filename=ibm_cos_sdk-2.11.0-py3-none-any.whl size=73641 sha256=ab7b0db1e74d43b64b12699d3aa8d66662344807dbaf164912c3a86a967a35dc\n",
      "  Stored in directory: c:\\users\\dell\\appdata\\local\\pip\\cache\\wheels\\d3\\a5\\34\\52d2e378d3d0446989ebcd214af8bad55beecf905258852b9f\n",
      "  Building wheel for ibm-cos-sdk-core (setup.py): started\n",
      "  Building wheel for ibm-cos-sdk-core (setup.py): finished with status 'done'\n",
      "  Created wheel for ibm-cos-sdk-core: filename=ibm_cos_sdk_core-2.11.0-py3-none-any.whl size=536333 sha256=ac98332f136c656a363dc16f20f0afdd990177978cf5a25cfcf405731ed68d61\n",
      "  Stored in directory: c:\\users\\dell\\appdata\\local\\pip\\cache\\wheels\\ed\\a7\\cd\\32a2cf8bae11ba6fc56451b7c46608cfd9176d1da8c6f73fa1\n",
      "  Building wheel for ibm-cos-sdk-s3transfer (setup.py): started\n",
      "  Building wheel for ibm-cos-sdk-s3transfer (setup.py): finished with status 'done'\n",
      "  Created wheel for ibm-cos-sdk-s3transfer: filename=ibm_cos_sdk_s3transfer-2.11.0-py3-none-any.whl size=89471 sha256=a6d32b40cf701dfbb78200cdda18ad42292699f83ba59a2f1ec3b34d40d6bb78\n",
      "  Stored in directory: c:\\users\\dell\\appdata\\local\\pip\\cache\\wheels\\4a\\3f\\7c\\551692188f14bdb095e715dd7f1061fec13b3766d45f3c3296\n",
      "Successfully built ibm-cos-sdk ibm-cos-sdk-core ibm-cos-sdk-s3transfer\n",
      "Installing collected packages: ibm-cos-sdk-core, ibm-cos-sdk-s3transfer, ibm-cos-sdk, ibm_watson_machine_learning\n",
      "  Attempting uninstall: ibm-cos-sdk-core\n",
      "    Found existing installation: ibm-cos-sdk-core 2.12.0\n",
      "    Uninstalling ibm-cos-sdk-core-2.12.0:\n",
      "      Successfully uninstalled ibm-cos-sdk-core-2.12.0\n",
      "  Attempting uninstall: ibm-cos-sdk-s3transfer\n",
      "    Found existing installation: ibm-cos-sdk-s3transfer 2.12.0\n",
      "    Uninstalling ibm-cos-sdk-s3transfer-2.12.0:\n",
      "      Successfully uninstalled ibm-cos-sdk-s3transfer-2.12.0\n",
      "  Attempting uninstall: ibm-cos-sdk\n",
      "    Found existing installation: ibm-cos-sdk 2.12.0\n",
      "    Uninstalling ibm-cos-sdk-2.12.0:\n",
      "      Successfully uninstalled ibm-cos-sdk-2.12.0\n",
      "Successfully installed ibm-cos-sdk-2.11.0 ibm-cos-sdk-core-2.11.0 ibm-cos-sdk-s3transfer-2.11.0 ibm_watson_machine_learning-1.0.257\n",
      "Note: you may need to restart the kernel to use updated packages.\n"
     ]
    }
   ],
   "source": [
    "pip install ibm_watson_machine_learning"
   ]
  },
  {
   "cell_type": "code",
   "execution_count": 5,
   "id": "b7610a1e",
   "metadata": {},
   "outputs": [],
   "source": [
    "from ibm_watson_machine_learning import APIClient\n",
    "wml_credentials={\n",
    "    \"url\":\"https://us-south.ml.cloud.ibm.com\",\n",
    "    \"apikey\":\"R5ep2OIuDK0SzPR6_yGxrz8qrIKR7qfZlV7L88KTrBEO\"\n",
    "}\n",
    "\n",
    "client=APIClient(wml_credentials)\n"
   ]
  },
  {
   "cell_type": "code",
   "execution_count": 6,
   "id": "bf518b45",
   "metadata": {},
   "outputs": [
    {
     "data": {
      "text/plain": [
       "<ibm_watson_machine_learning.client.APIClient at 0x21c4dfcfc70>"
      ]
     },
     "execution_count": 6,
     "metadata": {},
     "output_type": "execute_result"
    }
   ],
   "source": [
    "client\n"
   ]
  },
  {
   "cell_type": "code",
   "execution_count": 7,
   "id": "705317b9",
   "metadata": {},
   "outputs": [],
   "source": [
    "def guid_space_name(client,Digit_deploy):\n",
    "    space=client.spaces.get_details()\n",
    "    return(next(item for item in space['resources'] if item['entity']['name']==Digit_deploy)['metadata']['id'])"
   ]
  },
  {
   "cell_type": "code",
   "execution_count": 8,
   "id": "087bef58",
   "metadata": {},
   "outputs": [
    {
     "name": "stdout",
     "output_type": "stream",
     "text": [
      "Space UID 0bd78937-53fe-415f-8dfc-d064c7fd214a\n"
     ]
    }
   ],
   "source": [
    "space_uid=guid_space_name(client,'Digit_deploy')\n",
    "print(\"Space UID \"+space_uid)"
   ]
  },
  {
   "cell_type": "code",
   "execution_count": 10,
   "id": "87dfbcdf",
   "metadata": {},
   "outputs": [
    {
     "data": {
      "text/plain": [
       "'SUCCESS'"
      ]
     },
     "execution_count": 10,
     "metadata": {},
     "output_type": "execute_result"
    }
   ],
   "source": [
    "client.set.default_space(space_uid)"
   ]
  },
  {
   "cell_type": "code",
   "execution_count": 11,
   "id": "a84f4f0d",
   "metadata": {},
   "outputs": [
    {
     "name": "stdout",
     "output_type": "stream",
     "text": [
      "-------------------------------  ------------------------------------  ----\n",
      "NAME                             ASSET_ID                              TYPE\n",
      "default_py3.6                    0062b8c9-8b7d-44a0-a9b9-46c416adcbd9  base\n",
      "kernel-spark3.2-scala2.12        020d69ce-7ac1-5e68-ac1a-31189867356a  base\n",
      "pytorch-onnx_1.3-py3.7-edt       069ea134-3346-5748-b513-49120e15d288  base\n",
      "scikit-learn_0.20-py3.6          09c5a1d0-9c1e-4473-a344-eb7b665ff687  base\n",
      "spark-mllib_3.0-scala_2.12       09f4cff0-90a7-5899-b9ed-1ef348aebdee  base\n",
      "pytorch-onnx_rt22.1-py3.9        0b848dd4-e681-5599-be41-b5f6fccc6471  base\n",
      "ai-function_0.1-py3.6            0cdb0f1e-5376-4f4d-92dd-da3b69aa9bda  base\n",
      "shiny-r3.6                       0e6e79df-875e-4f24-8ae9-62dcc2148306  base\n",
      "tensorflow_2.4-py3.7-horovod     1092590a-307d-563d-9b62-4eb7d64b3f22  base\n",
      "pytorch_1.1-py3.6                10ac12d6-6b30-4ccd-8392-3e922c096a92  base\n",
      "tensorflow_1.15-py3.6-ddl        111e41b3-de2d-5422-a4d6-bf776828c4b7  base\n",
      "autoai-kb_rt22.2-py3.10          125b6d9a-5b1f-5e8d-972a-b251688ccf40  base\n",
      "runtime-22.1-py3.9               12b83a17-24d8-5082-900f-0ab31fbfd3cb  base\n",
      "scikit-learn_0.22-py3.6          154010fa-5b3b-4ac1-82af-4d5ee5abbc85  base\n",
      "default_r3.6                     1b70aec3-ab34-4b87-8aa0-a4a3c8296a36  base\n",
      "pytorch-onnx_1.3-py3.6           1bc6029a-cc97-56da-b8e0-39c3880dbbe7  base\n",
      "kernel-spark3.3-r3.6             1c9e5454-f216-59dd-a20e-474a5cdf5988  base\n",
      "pytorch-onnx_rt22.1-py3.9-edt    1d362186-7ad5-5b59-8b6c-9d0880bde37f  base\n",
      "tensorflow_2.1-py3.6             1eb25b84-d6ed-5dde-b6a5-3fbdf1665666  base\n",
      "spark-mllib_3.2                  20047f72-0a98-58c7-9ff5-a77b012eb8f5  base\n",
      "tensorflow_2.4-py3.8-horovod     217c16f6-178f-56bf-824a-b19f20564c49  base\n",
      "runtime-22.1-py3.9-cuda          26215f05-08c3-5a41-a1b0-da66306ce658  base\n",
      "do_py3.8                         295addb5-9ef9-547e-9bf4-92ae3563e720  base\n",
      "autoai-ts_3.8-py3.8              2aa0c932-798f-5ae9-abd6-15e0c2402fb5  base\n",
      "tensorflow_1.15-py3.6            2b73a275-7cbf-420b-a912-eae7f436e0bc  base\n",
      "kernel-spark3.3-py3.9            2b7961e2-e3b1-5a8c-a491-482c8368839a  base\n",
      "pytorch_1.2-py3.6                2c8ef57d-2687-4b7d-acce-01f94976dac1  base\n",
      "spark-mllib_2.3                  2e51f700-bca0-4b0d-88dc-5c6791338875  base\n",
      "pytorch-onnx_1.1-py3.6-edt       32983cea-3f32-4400-8965-dde874a8d67e  base\n",
      "spark-mllib_3.0-py37             36507ebe-8770-55ba-ab2a-eafe787600e9  base\n",
      "spark-mllib_2.4                  390d21f8-e58b-4fac-9c55-d7ceda621326  base\n",
      "autoai-ts_rt22.2-py3.10          396b2e83-0953-5b86-9a55-7ce1628a406f  base\n",
      "xgboost_0.82-py3.6               39e31acd-5f30-41dc-ae44-60233c80306e  base\n",
      "pytorch-onnx_1.2-py3.6-edt       40589d0e-7019-4e28-8daa-fb03b6f4fe12  base\n",
      "pytorch-onnx_rt22.2-py3.10       40e73f55-783a-5535-b3fa-0c8b94291431  base\n",
      "default_r36py38                  41c247d3-45f8-5a71-b065-8580229facf0  base\n",
      "autoai-ts_rt22.1-py3.9           4269d26e-07ba-5d40-8f66-2d495b0c71f7  base\n",
      "autoai-obm_3.0                   42b92e18-d9ab-567f-988a-4240ba1ed5f7  base\n",
      "pmml-3.0_4.3                     493bcb95-16f1-5bc5-bee8-81b8af80e9c7  base\n",
      "spark-mllib_2.4-r_3.6            49403dff-92e9-4c87-a3d7-a42d0021c095  base\n",
      "xgboost_0.90-py3.6               4ff8d6c2-1343-4c18-85e1-689c965304d3  base\n",
      "pytorch-onnx_1.1-py3.6           50f95b2a-bc16-43bb-bc94-b0bed208c60b  base\n",
      "autoai-ts_3.9-py3.8              52c57136-80fa-572e-8728-a5e7cbb42cde  base\n",
      "spark-mllib_2.4-scala_2.11       55a70f99-7320-4be5-9fb9-9edb5a443af5  base\n",
      "spark-mllib_3.0                  5c1b0ca2-4977-5c2e-9439-ffd44ea8ffe9  base\n",
      "autoai-obm_2.0                   5c2e37fa-80b8-5e77-840f-d912469614ee  base\n",
      "spss-modeler_18.1                5c3cad7e-507f-4b2a-a9a3-ab53a21dee8b  base\n",
      "cuda-py3.8                       5d3232bf-c86b-5df4-a2cd-7bb870a1cd4e  base\n",
      "runtime-22.2-py3.10-xc           5e8cddff-db4a-5a6a-b8aa-2d4af9864dab  base\n",
      "autoai-kb_3.1-py3.7              632d4b22-10aa-5180-88f0-f52dfb6444d7  base\n",
      "pytorch-onnx_1.7-py3.8           634d3cdc-b562-5bf9-a2d4-ea90a478456b  base\n",
      "spark-mllib_2.3-r_3.6            6586b9e3-ccd6-4f92-900f-0f8cb2bd6f0c  base\n",
      "tensorflow_2.4-py3.7             65e171d7-72d1-55d9-8ebb-f813d620c9bb  base\n",
      "spss-modeler_18.2                687eddc9-028a-4117-b9dd-e57b36f1efa5  base\n",
      "pytorch-onnx_1.2-py3.6           692a6a4d-2c4d-45ff-a1ed-b167ee55469a  base\n",
      "spark-mllib_2.3-scala_2.11       7963efe5-bbec-417e-92cf-0574e21b4e8d  base\n",
      "spark-mllib_2.4-py37             7abc992b-b685-532b-a122-a396a3cdbaab  base\n",
      "caffe_1.0-py3.6                  7bb3dbe2-da6e-4145-918d-b6d84aa93b6b  base\n",
      "pytorch-onnx_1.7-py3.7           812c6631-42b7-5613-982b-02098e6c909c  base\n",
      "cuda-py3.6                       82c79ece-4d12-40e6-8787-a7b9e0f62770  base\n",
      "tensorflow_1.15-py3.6-horovod    8964680e-d5e4-5bb8-919b-8342c6c0dfd8  base\n",
      "hybrid_0.1                       8c1a58c6-62b5-4dc4-987a-df751c2756b6  base\n",
      "pytorch-onnx_1.3-py3.7           8d5d8a87-a912-54cf-81ec-3914adaa988d  base\n",
      "caffe-ibm_1.0-py3.6              8d863266-7927-4d1e-97d7-56a7f4c0a19b  base\n",
      "runtime-22.2-py3.10-cuda         8ef391e4-ef58-5d46-b078-a82c211c1058  base\n",
      "spss-modeler_17.1                902d0051-84bd-4af6-ab6b-8f6aa6fdeabb  base\n",
      "do_12.10                         9100fd72-8159-4eb9-8a0b-a87e12eefa36  base\n",
      "do_py3.7                         9447fa8b-2051-4d24-9eef-5acb0e3c59f8  base\n",
      "spark-mllib_3.0-r_3.6            94bb6052-c837-589d-83f1-f4142f219e32  base\n",
      "cuda-py3.7-opence                94e9652b-7f2d-59d5-ba5a-23a414ea488f  base\n",
      "nlp-py3.8                        96e60351-99d4-5a1c-9cc0-473ac1b5a864  base\n",
      "cuda-py3.7                       9a44990c-1aa1-4c7d-baf8-c4099011741c  base\n",
      "hybrid_0.2                       9b3f9040-9cee-4ead-8d7a-780600f542f7  base\n",
      "spark-mllib_3.0-py38             9f7a8fc1-4d3c-5e65-ab90-41fa8de2d418  base\n",
      "autoai-kb_3.3-py3.7              a545cca3-02df-5c61-9e88-998b09dc79af  base\n",
      "spark-mllib_3.0-py39             a6082a27-5acc-5163-b02c-6b96916eb5e0  base\n",
      "runtime-22.1-py3.9-do            a7e7dbf1-1d03-5544-994d-e5ec845ce99a  base\n",
      "default_py3.8                    ab9e1b80-f2ce-592c-a7d2-4f2344f77194  base\n",
      "tensorflow_rt22.1-py3.9          acd9c798-6974-5d2f-a657-ce06e986df4d  base\n",
      "kernel-spark3.2-py3.9            ad7033ee-794e-58cf-812e-a95f4b64b207  base\n",
      "autoai-obm_2.0 with Spark 3.0    af10f35f-69fa-5d66-9bf5-acb58434263a  base\n",
      "runtime-22.2-py3.10              b56101f1-309d-549b-a849-eaa63f77b2fb  base\n",
      "default_py3.7_opence             c2057dd4-f42c-5f77-a02f-72bdbd3282c9  base\n",
      "tensorflow_2.1-py3.7             c4032338-2a40-500a-beef-b01ab2667e27  base\n",
      "do_py3.7_opence                  cc8f8976-b74a-551a-bb66-6377f8d865b4  base\n",
      "spark-mllib_3.3                  d11f2434-4fc7-58b7-8a62-755da64fdaf8  base\n",
      "autoai-kb_3.0-py3.6              d139f196-e04b-5d8b-9140-9a10ca1fa91a  base\n",
      "spark-mllib_3.0-py36             d82546d5-dd78-5fbb-9131-2ec309bc56ed  base\n",
      "autoai-kb_3.4-py3.8              da9b39c3-758c-5a4f-9cfd-457dd4d8c395  base\n",
      "kernel-spark3.2-r3.6             db2fe4d6-d641-5d05-9972-73c654c60e0a  base\n",
      "autoai-kb_rt22.1-py3.9           db6afe93-665f-5910-b117-d879897404d9  base\n",
      "tensorflow_rt22.1-py3.9-horovod  dda170cc-ca67-5da7-9b7a-cf84c6987fae  base\n",
      "autoai-ts_1.0-py3.7              deef04f0-0c42-5147-9711-89f9904299db  base\n",
      "tensorflow_2.1-py3.7-horovod     e384fce5-fdd1-53f8-bc71-11326c9c635f  base\n",
      "default_py3.7                    e4429883-c883-42b6-87a8-f419d64088cd  base\n",
      "do_22.1                          e51999ba-6452-5f1f-8287-17228b88b652  base\n",
      "autoai-obm_3.2                   eae86aab-da30-5229-a6a6-1d0d4e368983  base\n",
      "runtime-22.2-r4.2                ec0a3d28-08f7-556c-9674-ca7c2dba30bd  base\n",
      "tensorflow_rt22.2-py3.10         f65bd165-f057-55de-b5cb-f97cf2c0f393  base\n",
      "do_20.1                          f686cdd9-7904-5f9d-a732-01b0d6b10dc5  base\n",
      "pytorch-onnx_rt22.2-py3.10-edt   f8a05d07-e7cd-57bb-a10b-23f1d4b837ac  base\n",
      "scikit-learn_0.19-py3.6          f963fa9d-4bb7-5652-9c5d-8d9289ef6ad9  base\n",
      "tensorflow_2.4-py3.8             fe185c44-9a99-5425-986b-59bd1d2eda46  base\n",
      "-------------------------------  ------------------------------------  ----\n"
     ]
    }
   ],
   "source": [
    "client.software_specifications.list(200)"
   ]
  },
  {
   "cell_type": "code",
   "execution_count": 12,
   "id": "2f51dba1",
   "metadata": {},
   "outputs": [],
   "source": [
    "software_space_uid=client.software_specifications.get_uid_by_name('tensorflow_rt22.1-py3.9')"
   ]
  },
  {
   "cell_type": "code",
   "execution_count": 13,
   "id": "0982084b",
   "metadata": {},
   "outputs": [
    {
     "data": {
      "text/plain": [
       "'acd9c798-6974-5d2f-a657-ce06e986df4d'"
      ]
     },
     "execution_count": 13,
     "metadata": {},
     "output_type": "execute_result"
    }
   ],
   "source": [
    "software_space_uid"
   ]
  },
  {
   "cell_type": "code",
   "execution_count": 14,
   "id": "2e34970b",
   "metadata": {},
   "outputs": [
    {
     "name": "stderr",
     "output_type": "stream",
     "text": [
      "a mnistCNN.h5\n"
     ]
    }
   ],
   "source": [
    "!tar -zcvf digit-recognition.tgz mnistCNN.h5"
   ]
  },
  {
   "cell_type": "code",
   "execution_count": 15,
   "id": "e3f4c409",
   "metadata": {},
   "outputs": [
    {
     "name": "stdout",
     "output_type": "stream",
     "text": [
      " Volume in drive C has no label.\n",
      " Volume Serial Number is 7439-0463\n",
      "\n",
      " Directory of C:\\Users\\DELL\\3D Objects\\Python\\Untitled Folder\n",
      "\n",
      "19-11-2022  11:59    <DIR>          .\n",
      "19-11-2022  11:59    <DIR>          ..\n",
      "19-11-2022  11:49    <DIR>          .ipynb_checkpoints\n",
      "19-11-2022  11:59         2,323,462 digit-recognition.tgz\n",
      "18-11-2022  14:11         2,475,168 mnistCNN.h5\n",
      "18-11-2022  09:47            20,631 model building.ipynb\n",
      "17-11-2022  21:21    <DIR>          models\n",
      "18-11-2022  22:07            13,499 Sprint 2.ipynb\n",
      "18-11-2022  22:17            25,345 Sprint 3.ipynb\n",
      "18-11-2022  18:46            25,345 Sprint 4.ipynb\n",
      "18-11-2022  20:11            18,922 UNDERSTANDING THE DATA.ipynb\n",
      "19-11-2022  11:14             5,317 Untitled.ipynb\n",
      "19-11-2022  11:25            11,738 Untitled1.ipynb\n",
      "19-11-2022  11:27            11,582 Untitled2.ipynb\n",
      "19-11-2022  11:59            25,415 Untitled3.ipynb\n",
      "              11 File(s)      4,956,424 bytes\n",
      "               4 Dir(s)  62,992,642,048 bytes free\n"
     ]
    }
   ],
   "source": [
    "ls"
   ]
  },
  {
   "cell_type": "code",
   "execution_count": 16,
   "id": "ba0d598a",
   "metadata": {},
   "outputs": [],
   "source": [
    "model_details=client.repository.store_model(model='digit-recognition.tgz',meta_props={\n",
    "    client.repository.ModelMetaNames.NAME:\"CNN Model Building\",\n",
    "    client.repository.ModelMetaNames.TYPE:'tensorflow_2.7',\n",
    "    client.repository.ModelMetaNames.SOFTWARE_SPEC_UID:software_space_uid\n",
    "})"
   ]
  },
  {
   "cell_type": "code",
   "execution_count": 17,
   "id": "10ed5bc9",
   "metadata": {},
   "outputs": [],
   "source": [
    "model_id=client.repository.get_model_id(model_details)"
   ]
  },
  {
   "cell_type": "code",
   "execution_count": 18,
   "id": "f849c618",
   "metadata": {},
   "outputs": [
    {
     "data": {
      "text/plain": [
       "'03912330-410b-419d-9c03-9391d49f9d8d'"
      ]
     },
     "execution_count": 18,
     "metadata": {},
     "output_type": "execute_result"
    }
   ],
   "source": [
    "model_id"
   ]
  },
  {
   "cell_type": "code",
   "execution_count": 20,
   "id": "51c80d03",
   "metadata": {},
   "outputs": [
    {
     "name": "stdout",
     "output_type": "stream",
     "text": [
      "Successfully saved model content to file: 'digit.tar.gb'\n"
     ]
    },
    {
     "data": {
      "text/plain": [
       "'C:\\\\Users\\\\DELL\\\\3D Objects\\\\Python\\\\Untitled Folder/digit.tar.gb'"
      ]
     },
     "execution_count": 20,
     "metadata": {},
     "output_type": "execute_result"
    }
   ],
   "source": [
    "client.repository.download(model_id,'digit.tar.gb')"
   ]
  },
  {
   "cell_type": "code",
   "execution_count": 21,
   "id": "0bb46b27",
   "metadata": {},
   "outputs": [
    {
     "name": "stdout",
     "output_type": "stream",
     "text": [
      " Volume in drive C has no label.\n",
      " Volume Serial Number is 7439-0463\n",
      "\n",
      " Directory of C:\\Users\\DELL\\3D Objects\\Python\\Untitled Folder\n",
      "\n",
      "19-11-2022  12:07    <DIR>          .\n",
      "19-11-2022  12:07    <DIR>          ..\n",
      "19-11-2022  11:49    <DIR>          .ipynb_checkpoints\n",
      "19-11-2022  12:06         2,323,462 digit.tar.gb\n",
      "19-11-2022  11:59         2,323,462 digit-recognition.tgz\n",
      "18-11-2022  14:11         2,475,168 mnistCNN.h5\n",
      "18-11-2022  09:47            20,631 model building.ipynb\n",
      "17-11-2022  21:21    <DIR>          models\n",
      "18-11-2022  22:07            13,499 Sprint 2.ipynb\n",
      "18-11-2022  22:17            25,345 Sprint 3.ipynb\n",
      "18-11-2022  18:46            25,345 Sprint 4.ipynb\n",
      "18-11-2022  20:11            18,922 UNDERSTANDING THE DATA.ipynb\n",
      "19-11-2022  11:14             5,317 Untitled.ipynb\n",
      "19-11-2022  11:25            11,738 Untitled1.ipynb\n",
      "19-11-2022  11:27            11,582 Untitled2.ipynb\n",
      "19-11-2022  12:07            28,820 Untitled3.ipynb\n",
      "              12 File(s)      7,283,291 bytes\n",
      "               4 Dir(s)  62,989,697,024 bytes free\n"
     ]
    }
   ],
   "source": [
    "ls"
   ]
  },
  {
   "cell_type": "code",
   "execution_count": null,
   "id": "63b0e6bc",
   "metadata": {},
   "outputs": [],
   "source": []
  }
 ],
 "metadata": {
  "kernelspec": {
   "display_name": "Python 3 (ipykernel)",
   "language": "python",
   "name": "python3"
  },
  "language_info": {
   "codemirror_mode": {
    "name": "ipython",
    "version": 3
   },
   "file_extension": ".py",
   "mimetype": "text/x-python",
   "name": "python",
   "nbconvert_exporter": "python",
   "pygments_lexer": "ipython3",
   "version": "3.9.13"
  }
 },
 "nbformat": 4,
 "nbformat_minor": 5
}
